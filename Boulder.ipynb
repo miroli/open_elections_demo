{
 "cells": [
  {
   "cell_type": "code",
   "execution_count": 1,
   "metadata": {
    "collapsed": true
   },
   "outputs": [],
   "source": [
    "import pandas as pd"
   ]
  },
  {
   "cell_type": "code",
   "execution_count": 69,
   "metadata": {
    "collapsed": true
   },
   "outputs": [],
   "source": [
    "# source: http://www.bouldercounty.org/elections/results/pages/electionresults2014.aspx\n",
    "df = pd.read_excel('http://www.bouldercounty.org/doc/clerk/2014g_election_results_data.xls')"
   ]
  },
  {
   "cell_type": "code",
   "execution_count": 70,
   "metadata": {
    "collapsed": false
   },
   "outputs": [
    {
     "data": {
      "text/plain": [
       "(20307, 9)"
      ]
     },
     "execution_count": 70,
     "metadata": {},
     "output_type": "execute_result"
    }
   ],
   "source": [
    "df.shape"
   ]
  },
  {
   "cell_type": "code",
   "execution_count": 71,
   "metadata": {
    "collapsed": false
   },
   "outputs": [
    {
     "data": {
      "text/html": [
       "<div>\n",
       "<table border=\"1\" class=\"dataframe\">\n",
       "  <thead>\n",
       "    <tr style=\"text-align: right;\">\n",
       "      <th></th>\n",
       "      <th>Precinct \n",
       "Name</th>\n",
       "      <th>Active Voters</th>\n",
       "      <th>Contest Title</th>\n",
       "      <th>Choice Name</th>\n",
       "      <th>Party</th>\n",
       "      <th>Total \n",
       "Ballots</th>\n",
       "      <th>Total \n",
       "Votes</th>\n",
       "      <th>Total Under Votes</th>\n",
       "      <th>Total Over Votes</th>\n",
       "    </tr>\n",
       "  </thead>\n",
       "  <tbody>\n",
       "    <tr>\n",
       "      <th>0</th>\n",
       "      <td>2163307100</td>\n",
       "      <td>1118</td>\n",
       "      <td>United States Senator</td>\n",
       "      <td>Mark Udall</td>\n",
       "      <td>DEM</td>\n",
       "      <td>827</td>\n",
       "      <td>467</td>\n",
       "      <td>5</td>\n",
       "      <td>0</td>\n",
       "    </tr>\n",
       "    <tr>\n",
       "      <th>1</th>\n",
       "      <td>2163307100</td>\n",
       "      <td>1118</td>\n",
       "      <td>United States Senator</td>\n",
       "      <td>Cory Gardner</td>\n",
       "      <td>REP</td>\n",
       "      <td>827</td>\n",
       "      <td>314</td>\n",
       "      <td>5</td>\n",
       "      <td>0</td>\n",
       "    </tr>\n",
       "    <tr>\n",
       "      <th>2</th>\n",
       "      <td>2163307100</td>\n",
       "      <td>1118</td>\n",
       "      <td>United States Senator</td>\n",
       "      <td>Gaylon Kent</td>\n",
       "      <td>LBR</td>\n",
       "      <td>827</td>\n",
       "      <td>18</td>\n",
       "      <td>5</td>\n",
       "      <td>0</td>\n",
       "    </tr>\n",
       "    <tr>\n",
       "      <th>3</th>\n",
       "      <td>2163307100</td>\n",
       "      <td>1118</td>\n",
       "      <td>United States Senator</td>\n",
       "      <td>Raúl Acosta</td>\n",
       "      <td>UAF</td>\n",
       "      <td>827</td>\n",
       "      <td>12</td>\n",
       "      <td>5</td>\n",
       "      <td>0</td>\n",
       "    </tr>\n",
       "    <tr>\n",
       "      <th>4</th>\n",
       "      <td>2163307100</td>\n",
       "      <td>1118</td>\n",
       "      <td>United States Senator</td>\n",
       "      <td>Bill Hammons</td>\n",
       "      <td>UNI</td>\n",
       "      <td>827</td>\n",
       "      <td>1</td>\n",
       "      <td>5</td>\n",
       "      <td>0</td>\n",
       "    </tr>\n",
       "  </tbody>\n",
       "</table>\n",
       "</div>"
      ],
      "text/plain": [
       "  Precinct \\nName  Active Voters          Contest Title   Choice Name Party  \\\n",
       "0      2163307100           1118  United States Senator    Mark Udall   DEM   \n",
       "1      2163307100           1118  United States Senator  Cory Gardner   REP   \n",
       "2      2163307100           1118  United States Senator   Gaylon Kent   LBR   \n",
       "3      2163307100           1118  United States Senator   Raúl Acosta   UAF   \n",
       "4      2163307100           1118  United States Senator  Bill Hammons   UNI   \n",
       "\n",
       "   Total \\nBallots  Total \\nVotes  Total Under Votes  Total Over Votes  \n",
       "0              827            467                  5                 0  \n",
       "1              827            314                  5                 0  \n",
       "2              827             18                  5                 0  \n",
       "3              827             12                  5                 0  \n",
       "4              827              1                  5                 0  "
      ]
     },
     "execution_count": 71,
     "metadata": {},
     "output_type": "execute_result"
    }
   ],
   "source": [
    "df.head()"
   ]
  },
  {
   "cell_type": "markdown",
   "metadata": {},
   "source": [
    "### Add county"
   ]
  },
  {
   "cell_type": "code",
   "execution_count": 72,
   "metadata": {
    "collapsed": true
   },
   "outputs": [],
   "source": [
    "df['county'] = 'Boulder'"
   ]
  },
  {
   "cell_type": "markdown",
   "metadata": {},
   "source": [
    "### Rename columns"
   ]
  },
  {
   "cell_type": "code",
   "execution_count": 73,
   "metadata": {
    "collapsed": false
   },
   "outputs": [],
   "source": [
    "df.rename(columns={'Precinct \\nName': 'precinct'}, inplace=True)"
   ]
  },
  {
   "cell_type": "code",
   "execution_count": 74,
   "metadata": {
    "collapsed": false
   },
   "outputs": [],
   "source": [
    "df.rename(columns={u'Contest Title': u'office', u'Party': u'party', u'Choice Name': u'candidate', u'Total \\nVotes': u'votes'}, inplace=True)"
   ]
  },
  {
   "cell_type": "markdown",
   "metadata": {},
   "source": [
    "### Rearrange columns"
   ]
  },
  {
   "cell_type": "code",
   "execution_count": 75,
   "metadata": {
    "collapsed": false
   },
   "outputs": [],
   "source": [
    "df[u'district'] = ''\n",
    "col_order = [u'county', u'precinct', u'office', u'district', u'party', u'candidate', u'votes', u'Active Voters',\n",
    "             u'Total \\nBallots', u'Total Under Votes', u'Total Over Votes']\n",
    "df = df[col_order]"
   ]
  },
  {
   "cell_type": "markdown",
   "metadata": {
    "collapsed": true
   },
   "source": [
    "### Fill in districts"
   ]
  },
  {
   "cell_type": "code",
   "execution_count": 76,
   "metadata": {
    "collapsed": false
   },
   "outputs": [
    {
     "data": {
      "text/plain": [
       "array([u'United States Senator',\n",
       "       u'Representative To The 114th  United States Congress - District 2',\n",
       "       u'Representative To The 114th  United States Congress - District 4',\n",
       "       u'Governor/Lieutenant Governor', u'Secretary Of State',\n",
       "       u'State Treasurer', u'Attorney General',\n",
       "       u'Regent Of The University Of Colorado - Congressional District 2',\n",
       "       u'State Senate - District 16',\n",
       "       u'State Representative - District 10',\n",
       "       u'State Representative - District 11',\n",
       "       u'State Representative - District 12',\n",
       "       u'State Representative - District 13',\n",
       "       u'State Representative - District 33',\n",
       "       u'District O Regional Transportation District Director',\n",
       "       u'County Commissioner - District 3', u'County Clerk & Recorder',\n",
       "       u'County Treasurer', u'County Assessor', u'County Sheriff',\n",
       "       u'County Surveyor', u'County Coroner',\n",
       "       u'City of Louisville City Council Person Ward I',\n",
       "       u'Town of Superior - Mayor', u'Town of Superior - Trustee',\n",
       "       u'Justice Of The Colorado Supreme Court   - Brian D. Boatright',\n",
       "       u'Justice Of The Colorado Supreme Court   - Monica M. Marquez',\n",
       "       u'Court Of Appeals   - Terry Fox',\n",
       "       u'Court Of Appeals   - Alan M. Loeb',\n",
       "       u'District Judge - 20th Judicial District   - Ingrid S. Bakke',\n",
       "       u'District Judge - 20th Judicial District   - Maria E. Berkenkotter',\n",
       "       u'District Judge - 20th Judicial District   - Patrick Butler',\n",
       "       u'District Judge - 20th Judicial District   - Judith L. LaBuda',\n",
       "       u'District Judge - 20th Judicial District   - Andrew Ross Macdonald',\n",
       "       u'County Judge, Boulder   - David Archuleta',\n",
       "       u'County Judge, Boulder   - Noel E. Blum',\n",
       "       u'County Judge, Boulder   - Karolyn Moore',\n",
       "       u'County Judge, Boulder   - Norma A. Sierra',\n",
       "       u'Amendment 67 (CONSTITUTIONAL)', u'Amendment 68 (CONSTITUTIONAL)',\n",
       "       u'Proposition 104 (STATUTORY)', u'Proposition 105 (STATUTORY)',\n",
       "       u'BOULDER COUNTY BALLOT ISSUE 1A',\n",
       "       u'BOULDER COUNTY BALLOT ISSUE 1B',\n",
       "       u'CITY OF BOULDER BALLOT ISSUE NO. 2A',\n",
       "       u'City of Boulder Ballot Question No. 2B',\n",
       "       u'City of Boulder Ballot Question No. 2C',\n",
       "       u'CITY OF LAFAYETTE BALLOT ISSUE NO. 2A',\n",
       "       u'CITY OF LAFAYETTE BALLOT ISSUE NO. 2B',\n",
       "       u'CITY OF LAFAYETTE BALLOT ISSUE NO. 2C',\n",
       "       u'CITY OF LAFAYETTE BALLOT ISSUE NO. 2D',\n",
       "       u'CITY OF LONGMONT BALLOT ISSUE 2A',\n",
       "       u'TOWN OF LYONS BALLOT ISSUE 2A',\n",
       "       u'BOULDER VALLEY SCHOOL DISTRICT RE-2 BALLOT ISSUE 3A:',\n",
       "       u'NORTH METRO FIRE RESCUE DISTRICT  BALLOT ISSUE 4A',\n",
       "       u'COAL CREEK CANYON FIRE PROTECTION DISTRICT BALLOT ISSUE 4B:',\n",
       "       u'LYONS REGIONAL LIBRARY DISTRICT  BALLOT ISSUE 4C:',\n",
       "       u'SUNSHINE FIRE PROTECTION DISTRICT  BALLOT ISSUE 5A'], dtype=object)"
      ]
     },
     "execution_count": 76,
     "metadata": {},
     "output_type": "execute_result"
    }
   ],
   "source": [
    "df['office'].unique()"
   ]
  },
  {
   "cell_type": "code",
   "execution_count": 77,
   "metadata": {
    "collapsed": false
   },
   "outputs": [],
   "source": [
    "df.loc[lambda x: x[u'office'] == u'Representative To The 114th  United States Congress - District 2', u'district'] = u'2'\n",
    "df.loc[lambda x: x[u'office'] == u'Representative To The 114th  United States Congress - District 4', u'district'] = u'4'\n",
    "\n",
    "df.loc[lambda x: x[u'office'] == u'Regent Of The University Of Colorado - Congressional District 2', u'district'] = u'2'\n",
    "\n",
    "df.loc[lambda x: x[u'office'] == u'State Representative - District 10', u'district'] = u'10'\n",
    "df.loc[lambda x: x[u'office'] == u'State Representative - District 11', u'district'] = u'11'\n",
    "df.loc[lambda x: x[u'office'] == u'State Representative - District 12', u'district'] = u'12'\n",
    "df.loc[lambda x: x[u'office'] == u'State Representative - District 13', u'district'] = u'13'\n",
    "df.loc[lambda x: x[u'office'] == u'State Representative - District 33', u'district'] = u'33'\n",
    "\n",
    "df.loc[lambda x: x[u'office'] == u'County Commissioner - District 3', u'district'] = u'3'\n",
    "\n",
    "df.loc[lambda x: x[u'office'] == u'District Judge - 20th Judicial District   - Ingrid S. Bakke', u'district'] = u'20'\n",
    "df.loc[lambda x: x[u'office'] == u'District Judge - 20th Judicial District   - Maria E. Berkenkotter', u'district'] = u'20'\n",
    "df.loc[lambda x: x[u'office'] == u'District Judge - 20th Judicial District   - Patrick Butler', u'district'] = u'20'\n",
    "df.loc[lambda x: x[u'office'] == u'District Judge - 20th Judicial District   - Judith L. LaBuda', u'district'] = u'20'\n",
    "df.loc[lambda x: x[u'office'] == u'District Judge - 20th Judicial District   - Andrew Ross Macdonald', u'district'] = u'20'"
   ]
  },
  {
   "cell_type": "markdown",
   "metadata": {},
   "source": [
    "### Rename offices"
   ]
  },
  {
   "cell_type": "code",
   "execution_count": 78,
   "metadata": {
    "collapsed": true
   },
   "outputs": [],
   "source": [
    "df[u'office'] = df[u'office'].str.replace(u'United States Senator', u'U.S. Senate')\n",
    "df[u'office'] = df[u'office'].str.replace(u'Representative To The 114th  United States Congress - District 2', u'U.S. House')\n",
    "df[u'office'] = df[u'office'].str.replace(u'Representative To The 114th  United States Congress - District 4', u'U.S. House')\n",
    "\n",
    "df[u'office'] = df[u'office'].str.replace(u'Governor/Lieutenant Governor', u'Governor')\n",
    "df[u'office'] = df[u'office'].str.replace(u'Secretary Of State', u'Secretary of State')\n",
    "df[u'office'] = df[u'office'].str.replace(u'Regent Of The University Of Colorado - Congressional District 2', u'Regent of the University of Colorado')\n",
    "df[u'office'] = df[u'office'].str.replace(u'State Senate - District 16', u'U.S. Senate')\n",
    "\n",
    "df[u'office'] = df[u'office'].str.replace(u'State Representative - District 10', u'U.S. House')\n",
    "df[u'office'] = df[u'office'].str.replace(u'State Representative - District 11', u'U.S. House')\n",
    "df[u'office'] = df[u'office'].str.replace(u'State Representative - District 12', u'U.S. House')\n",
    "df[u'office'] = df[u'office'].str.replace(u'State Representative - District 13', u'U.S. House')\n",
    "df[u'office'] = df[u'office'].str.replace(u'State Representative - District 33', u'U.S. House')\n",
    "\n",
    "df[u'office'] = df[u'office'].str.replace(u'County Commissioner - District 3', u'County Commissioner')\n",
    "\n",
    "df[u'office'] = df[u'office'].str.replace(u'Justice Of The Colorado Supreme Court   - Brian D. Boatright', u'Justice Of The Colorado Supreme Court - Brian D. Boatright')\n",
    "df[u'office'] = df[u'office'].str.replace(u'Justice Of The Colorado Supreme Court   - Monica M. Marquez', u'Justice Of The Colorado Supreme Court - Monica M. Marquez')\n",
    "\n",
    "\n",
    "df[u'office'] = df[u'office'].str.replace(u'Court Of Appeals   - Terry Fox', u'Court Of Appeals - Terry Fox')\n",
    "df[u'office'] = df[u'office'].str.replace(u'Court Of Appeals   - Alan M. Loeb', u'Court Of Appeals - Alan M. Loeb')\n",
    "\n",
    "df[u'office'] = df[u'office'].str.replace(u'District Judge - 20th Judicial District   - Ingrid S. Bakke', u'District Judge - Ingrid S. Bakke')\n",
    "df[u'office'] = df[u'office'].str.replace(u'District Judge - 20th Judicial District   - Maria E. Berkenkotter', u'District Judge - Maria E. Berkenkotter')\n",
    "df[u'office'] = df[u'office'].str.replace(u'District Judge - 20th Judicial District   - Patrick Butler', u'District Judge - Patrick Butler')\n",
    "df[u'office'] = df[u'office'].str.replace(u'District Judge - 20th Judicial District   - Judith L. LaBuda', u'District Judge - Judith L. LaBuda')\n",
    "df[u'office'] = df[u'office'].str.replace(u'District Judge - 20th Judicial District   - Andrew Ross Macdonald', u'District Judge - Andrew Ross Macdonald')\n",
    "\n",
    "\n",
    "df[u'office'] = df[u'office'].str.replace(u'County Judge, Boulder   - David Archuleta', u'County Judge - David Archuleta')\n",
    "df[u'office'] = df[u'office'].str.replace(u'County Judge, Boulder   - Noel E. Blum', u'County Judge - Noel E. Blum')\n",
    "df[u'office'] = df[u'office'].str.replace(u'County Judge, Boulder   - Karolyn Moore', u'County Judge - Karolyn Moore')\n",
    "df[u'office'] = df[u'office'].str.replace(u'County Judge, Boulder   - Norma A. Sierra', u'County Judge - Norma A. Sierra')"
   ]
  },
  {
   "cell_type": "markdown",
   "metadata": {},
   "source": [
    "### Remove non-office votes"
   ]
  },
  {
   "cell_type": "code",
   "execution_count": 79,
   "metadata": {
    "collapsed": false
   },
   "outputs": [],
   "source": [
    "rm = 'Amendment|Proposition|BALLOT|Ballot'\n",
    "df = df[~df['office'].str.contains(rm)]"
   ]
  },
  {
   "cell_type": "markdown",
   "metadata": {},
   "source": [
    "### Save to CSV"
   ]
  },
  {
   "cell_type": "code",
   "execution_count": 80,
   "metadata": {
    "collapsed": false
   },
   "outputs": [],
   "source": [
    "df.to_csv('20141104__co__general__boulder__precinct.csv', encoding='utf8', index=False)"
   ]
  },
  {
   "cell_type": "code",
   "execution_count": null,
   "metadata": {
    "collapsed": true
   },
   "outputs": [],
   "source": []
  },
  {
   "cell_type": "code",
   "execution_count": null,
   "metadata": {
    "collapsed": true
   },
   "outputs": [],
   "source": []
  },
  {
   "cell_type": "code",
   "execution_count": null,
   "metadata": {
    "collapsed": true
   },
   "outputs": [],
   "source": []
  }
 ],
 "metadata": {
  "kernelspec": {
   "display_name": "Python 2",
   "language": "python",
   "name": "python2"
  },
  "language_info": {
   "codemirror_mode": {
    "name": "ipython",
    "version": 2
   },
   "file_extension": ".py",
   "mimetype": "text/x-python",
   "name": "python",
   "nbconvert_exporter": "python",
   "pygments_lexer": "ipython2",
   "version": "2.7.10"
  }
 },
 "nbformat": 4,
 "nbformat_minor": 0
}
